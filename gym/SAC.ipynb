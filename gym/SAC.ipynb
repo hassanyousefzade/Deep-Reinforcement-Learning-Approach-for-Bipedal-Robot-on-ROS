{
 "cells": [
  {
   "cell_type": "code",
   "execution_count": 18,
   "metadata": {
    "id": "hNA9hN6kvvnc"
   },
   "outputs": [],
   "source": [
    "#please run roscore on terminal\n"
   ]
  },
  {
   "cell_type": "code",
   "execution_count": 19,
   "metadata": {
    "id": "ESSYYOwkvvne"
   },
   "outputs": [],
   "source": [
    "#please run gazebo world on terminal\n"
   ]
  },
  {
   "cell_type": "code",
   "execution_count": 20,
   "metadata": {
    "id": "1IGNMZ5Evvne"
   },
   "outputs": [
    {
     "name": "stderr",
     "output_type": "stream",
     "text": [
      "2021-11-03 04:36:18.687657: I tensorflow/stream_executor/cuda/cuda_gpu_executor.cc:937] successful NUMA node read from SysFS had negative value (-1), but there must be at least one NUMA node, so returning NUMA node zero\n",
      "2021-11-03 04:36:18.688042: I tensorflow/stream_executor/cuda/cuda_gpu_executor.cc:937] successful NUMA node read from SysFS had negative value (-1), but there must be at least one NUMA node, so returning NUMA node zero\n",
      "2021-11-03 04:36:18.688306: I tensorflow/stream_executor/cuda/cuda_gpu_executor.cc:937] successful NUMA node read from SysFS had negative value (-1), but there must be at least one NUMA node, so returning NUMA node zero\n",
      "2021-11-03 04:36:18.688578: I tensorflow/stream_executor/cuda/cuda_gpu_executor.cc:937] successful NUMA node read from SysFS had negative value (-1), but there must be at least one NUMA node, so returning NUMA node zero\n",
      "2021-11-03 04:36:18.688804: I tensorflow/stream_executor/cuda/cuda_gpu_executor.cc:937] successful NUMA node read from SysFS had negative value (-1), but there must be at least one NUMA node, so returning NUMA node zero\n",
      "2021-11-03 04:36:18.689020: I tensorflow/core/common_runtime/gpu/gpu_device.cc:1510] Created device /device:GPU:0 with 2126 MB memory:  -> device: 0, name: NVIDIA GeForce RTX 3050 Ti Laptop GPU, pci bus id: 0000:01:00.0, compute capability: 8.6\n"
     ]
    }
   ],
   "source": [
    "import tensorflow as tf\n",
    "import tensorflow_probability as tfp\n",
    "from tensorflow.keras import layers\n",
    "from tensorflow.keras import Model\n",
    "import numpy as np\n",
    "import gym\n",
    "import argparse\n",
    "import logging\n",
    "from datetime import datetime\n",
    "import gc\n",
    "gc.enable()\n",
    "import rospy\n",
    "import roslib\n",
    "import rospy\n",
    "import rostopic\n",
    "import random\n",
    "import time\n",
    "import math\n",
    "import csv\n",
    "from std_srvs.srv import Empty\n",
    "from gazebo_msgs.srv import SetModelConfiguration\n",
    "from control_msgs.msg import JointControllerState\n",
    "from sensor_msgs.msg import JointState\n",
    "from gazebo_msgs.msg import LinkStates\n",
    "from gazebo_msgs.msg import ContactsState\n",
    "from geometry_msgs.msg import Pose\n",
    "from std_msgs.msg import Float64\n",
    "from std_msgs.msg import String\n",
    "from sensor_msgs.msg import Joy\n",
    "from gazebo_msgs.srv import DeleteModel\n",
    "from gazebo_msgs.srv import SpawnModel\n",
    "from controller_manager_msgs.srv import LoadController\n",
    "from controller_manager_msgs.srv import SwitchController\n",
    "\n",
    "import threading\n",
    "from scipy.interpolate import interp1d\n",
    "\n",
    "gpu_available = tf.test.is_gpu_available()"
   ]
  },
  {
   "cell_type": "code",
   "execution_count": 21,
   "metadata": {
    "id": "zlaa_UTXvvnf"
   },
   "outputs": [],
   "source": [
    "ENV_NAME = 'BipedalWalker-UTHAI'\n",
    "EPISODES = 500000\n",
    "TEST = 10"
   ]
  },
  {
   "cell_type": "code",
   "execution_count": 22,
   "metadata": {
    "id": "0yLopuYMvvng"
   },
   "outputs": [],
   "source": [
    "LAP = rospy.Publisher(\n",
    "        'uthai/l_ankle_pitch_position/command', Float64, queue_size=10)\n",
    "LAR = rospy.Publisher(\n",
    "    'uthai/l_ankle_roll_position/command', Float64, queue_size=10)\n",
    "LHP = rospy.Publisher(\n",
    "    'uthai/l_hip_pitch_position/command', Float64, queue_size=10)\n",
    "LHR = rospy.Publisher('uthai/l_hip_roll_position/command',\n",
    "                     Float64, queue_size=10)\n",
    "LHY = rospy.Publisher('uthai/l_hip_yaw_position/command',\n",
    "                      Float64, queue_size=10)\n",
    "LKP = rospy.Publisher(\n",
    "    'uthai/l_knee_pitch_position/command', Float64, queue_size=10)\n",
    "RAP = rospy.Publisher(\n",
    "    'uthai/r_ankle_pitch_position/command', Float64, queue_size=10)\n",
    "RAR = rospy.Publisher(\n",
    "    'uthai/r_ankle_roll_position/command', Float64, queue_size=10)\n",
    "RHP = rospy.Publisher(\n",
    "    'uthai/r_hip_pitch_position/command', Float64, queue_size=10)\n",
    "RHR = rospy.Publisher('uthai/r_hip_roll_position/command',\n",
    "                      Float64, queue_size=10)\n",
    "RHY = rospy.Publisher('uthai/r_hip_yaw_position/command',\n",
    "                      Float64, queue_size=10)\n",
    "RKP = rospy.Publisher(\n",
    "    'uthai/r_knee_pitch_position/command', Float64, queue_size=10)\n",
    "\n",
    "reset_simulation = rospy.ServiceProxy('/gazebo/reset_world', Empty)\n",
    "\n",
    "reset_joints = rospy.ServiceProxy('/gazebo/set_model_configuration', SetModelConfiguration)\n",
    "\n",
    "unpause = rospy.ServiceProxy('/gazebo/unpause_physics', Empty)\n",
    "\n",
    "pause = rospy.ServiceProxy('/gazebo/pause_physics', Empty)"
   ]
  },
  {
   "cell_type": "code",
   "execution_count": 23,
   "metadata": {
    "id": "khFcTCjHvvng"
   },
   "outputs": [],
   "source": [
    "fall = 0\n",
    "rospy.init_node(\"q_set_control_node\")\n",
    "rate = rospy.Rate(50)\n"
   ]
  },
  {
   "cell_type": "code",
   "execution_count": 24,
   "metadata": {
    "id": "_H4lYv4zvvng"
   },
   "outputs": [],
   "source": [
    "class RobotState(object):\n",
    "    def __init__(self):\n",
    "\n",
    "        self.outer_ring_inner_ring_theta = 0.0\n",
    "        \n",
    "        self.waist_z = 0.0\n",
    "\n",
    "        \n",
    "        self.LAP_theta = 0.0\n",
    "        self.LAP_theta_dot = 0.0\n",
    "        \n",
    "        self.LAR_theta = 0.0\n",
    "        self.LAR_theta_dot = 0.0\n",
    "        \n",
    "        self.LHP_theta = 0.0\n",
    "        self.LHP_theta_dot = 0.0\n",
    "        \n",
    "        self.LHR_theta = 0.0\n",
    "        self.LHR_theta_dot = 0.0\n",
    "        \n",
    "        self.LHY_theta = 0.0\n",
    "        self.LHY_theta_dot = 0.0\n",
    "        \n",
    "        self.LKP_theta = 0.0\n",
    "        self.LKP_theta_dot = 0.0\n",
    "        \n",
    "        self.RAP_theta = 0.0\n",
    "        self.RAP_theta_dot = 0.0\n",
    "        \n",
    "        self.RAR_theta = 0.0\n",
    "        self.RAR_theta_dot = 0.0\n",
    "        \n",
    "        self.RHP_theta = 0.0\n",
    "        self.RHP_theta_dot = 0.0\n",
    "        \n",
    "        self.RHR_theta = 0.0\n",
    "        self.RHR_theta_dot = 0.0\n",
    "        \n",
    "        self.RHY_theta = 0.0\n",
    "        self.RHY_theta_dot = 0.0\n",
    "        \n",
    "        self.RKP_theta = 0.0\n",
    "        self.RKP_theta_dot = 0.0\n",
    "        \n",
    " \n",
    "        #self.footr_contact = 0\n",
    "        #self.footl_contact = 0\n",
    "        \n",
    "        self.robot_state = [self.LAP_theta, self.LAP_theta_dot, self.LAR_theta, self.LAR_theta_dot, \\\n",
    "        self.LHP_theta, self.LHP_theta_dot, self.LHR_theta, self.LHR_theta_dot,self.LHY_theta,self.LHY_theta_dot,\\\n",
    "        self.LKP_theta,self.LKP_theta_dot,self.RAP_theta,self.RAP_theta_dot,\\\n",
    "        self.RAR_theta,self.RAR_theta_dot,self.RHP_theta,self.RHP_theta_dot,\\\n",
    "        self.RHR_theta,self.RHR_theta_dot,self.RHY_theta,self.RHY_theta_dot,self.RKP_theta,self.RKP_theta_dot]\n",
    "\n",
    "        self.latest_reward = 0.0\n",
    "        self.best_reward = -100000000000000.0\n",
    "        self.episode = 0\n",
    "        self.last_outer_ring_inner_ring_theta = 0.0\n",
    "        self.last_time = 0.0\n",
    "\n",
    "        self.fall = 0\n",
    "        self.done = False\n",
    "        self.count_of_1 = 0\n",
    "        self.avg_reward = 0.0\n"
   ]
  },
  {
   "cell_type": "code",
   "execution_count": 25,
   "metadata": {
    "id": "d-FUA7ggvvnh"
   },
   "outputs": [],
   "source": [
    "class Publisher(threading.Thread):\n",
    "    def __init__(self,LAP,LAR,LHP,LHR,LHY,LKP,RAP,RAR,RHP,RHR,RHY,RKP, rate):\n",
    "        threading.Thread.__init__(self)\n",
    "        self.counter = 0\n",
    "        self.LAP = LAP\n",
    "        self.LAR = LAR\n",
    "        self.LHP = LHP\n",
    "        self.LHR = LHR\n",
    "        self.LHY = LHY\n",
    "        self.LKP = LKP\n",
    "        self.RAP = RAP\n",
    "        self.RAR = RAR\n",
    "        self.RHP = RHP\n",
    "        self.RHR = RHR\n",
    "        self.RHY = RHY\n",
    "        self.RKP = RKP\n",
    "        \n",
    "        self.rate = rate\n",
    "\n",
    "\n",
    "    def run(self):\n",
    "        publisher(self.LAP,self.LAR,self.LHP,self.LHR,self.LHY,self.LKP,self.RAP,self.RAR,self.RHP,\\\n",
    "        self.RHR,self.RHY,self.RKP,self.rate, self.counter)"
   ]
  },
  {
   "cell_type": "code",
   "execution_count": 26,
   "metadata": {
    "id": "3_LKr_xcvvnh"
   },
   "outputs": [],
   "source": [
    "robot_state = RobotState()\n"
   ]
  },
  {
   "cell_type": "code",
   "execution_count": 27,
   "metadata": {
    "id": "0chrd9zdvvni"
   },
   "outputs": [],
   "source": [
    "def set_robot_state():\n",
    "    robot_state.robot_state =  [robot_state.LAP_theta, robot_state.LAP_theta_dot, robot_state.LAR_theta, robot_state.LAR_theta_dot, \\\n",
    "        robot_state.LHP_theta, robot_state.LHP_theta_dot, robot_state.LHR_theta, robot_state.LHR_theta_dot,robot_state.LHY_theta,robot_state.LHY_theta_dot,\\\n",
    "        robot_state.LKP_theta,robot_state.LKP_theta_dot,robot_state.RAP_theta,robot_state.RAP_theta_dot,\\\n",
    "        robot_state.RAR_theta,robot_state.RAR_theta_dot,robot_state.RHP_theta,robot_state.RHP_theta_dot,\\\n",
    "        robot_state.RHR_theta,robot_state.RHR_theta_dot,robot_state.RHY_theta,robot_state.RHY_theta_dot,robot_state.RKP_theta,robot_state.RKP_theta_dot]"
   ]
  },
  {
   "cell_type": "code",
   "execution_count": 28,
   "metadata": {
    "id": "L9jpXkJRvvni"
   },
   "outputs": [],
   "source": [
    "def reset_joint_hassan():\n",
    "    LHY.publish(0)\n",
    "    RHY.publish(0)\n",
    "    LAR.publish(0)\n",
    "    LHR.publish(0)\n",
    "    RAR.publish(0)\n",
    "    RHR.publish(0)\n",
    "\n",
    "    LHP.publish(0)\n",
    "    LKP.publish(0)\n",
    "    LAP.publish(0)\n",
    "    RHP.publish(0)\n",
    "    RKP.publish(0)\n",
    "    RAP.publish(0)\n"
   ]
  },
  {
   "cell_type": "code",
   "execution_count": 29,
   "metadata": {
    "id": "8hxeLGlCvvni"
   },
   "outputs": [],
   "source": [
    "def Reset() :\n",
    "     for _ in range(2):\n",
    "            reset()\n",
    "            \n",
    "     try:\n",
    "        pause()\n",
    "     except (rospy.ServiceException) as e:\n",
    "        print (\"rospause failed!'\")"
   ]
  },
  {
   "cell_type": "code",
   "execution_count": 30,
   "metadata": {
    "id": "yavlZhCKvvni"
   },
   "outputs": [],
   "source": [
    "def reset():\n",
    "    # ['waist_thighR', 'waist_thighL', 'thighR_shankR', 'thighL_shankL', 'outer_ring_inner_ring', 'inner_ring_boom', 'boom_waist']\n",
    "\n",
    "    rospy.wait_for_service('gazebo/set_model_configuration')\n",
    "    \n",
    "    try:\n",
    "        reset_joint_hassan()\n",
    "        #delay_error()\n",
    "        robot_state.last_outer_ring_inner_ring_theta = 0.0\n",
    "        \n",
    "        \n",
    "    except (rospy.ServiceException) as e:\n",
    "        print (\"reset_joints failed!\")\n",
    "    \n",
    "    rospy.wait_for_service('/gazebo/pause_physics')\n",
    "\n",
    "    \n",
    "    rospy.wait_for_service('gazebo/reset_world')\n",
    "    try:\n",
    "        reset_simulation()\n",
    "        \n",
    "    except(rospy.ServiceException) as e :\n",
    "        print (\"reset_world failed!\")\n",
    "        \n",
    "    #time.sleep(1)\n",
    "    \"\"\"\n",
    "    try:\n",
    "        pause()\n",
    "        print(\"-------------paused_simulation-----------\")\n",
    "    except (rospy.ServiceException) as e:\n",
    "        print (\"rospause failed!'\")\n",
    "    \"\"\"\n",
    "    set_robot_state()\n",
    "    "
   ]
  },
  {
   "cell_type": "code",
   "execution_count": 31,
   "metadata": {
    "id": "jbt73G9cvvnj"
   },
   "outputs": [],
   "source": [
    "def best_reset():        \n",
    "        rospy.wait_for_service('/gazebo/delete_model')\n",
    "        try:\n",
    "                DeleteModel()\n",
    "\n",
    "        except (rospy.ServiceException) as e:\n",
    "                print (\"delete model  failed!\")\n",
    "        rospy.wait_for_service('/gazebo/spawn_urdf_model')\n",
    "        try:\n",
    "                SpawnModel()\n",
    "\n",
    "        except (rospy.ServiceException) as e:\n",
    "\n",
    "               print (\"spawn_urdf_model failed!\")\n",
    "        try:\n",
    "           pause()\n",
    "        except (rospy.ServiceException) as e:\n",
    "           print (\"pause failed!'\")\n",
    "        rospy.wait_for_service('gazebo/set_model_configuration')\n",
    "\n",
    "        try:\n",
    "                reset_joint_hassan()\n",
    "                robot_state.last_outer_ring_inner_ring_theta = 0.0\n",
    "\n",
    "        except (rospy.ServiceException) as e:\n",
    "                print (\"reset_joints failed!\")\n",
    "        \n",
    "        \n",
    "        try:\n",
    "           unpause()\n",
    "        except (rospy.ServiceException) as e:\n",
    "           print (\"unpause failed!'\")\n",
    "        rospy.wait_for_service(\"/uthai/controller_manager/load_controller\")\n",
    "        \n",
    "        error_compensator()\n",
    "\n",
    "        try:\n",
    "           LoadController()\n",
    "        except (rospy.ServiceException) as e:\n",
    "           print (\"LoadController failed!'\")\n",
    "        rospy.wait_for_service(\"/uthai/controller_manager/switch_controller\")\n",
    "        try:\n",
    "           SwitchController()\n",
    "        except (rospy.ServiceException) as e:\n",
    "           print (\"SwitchController failed!\")\n",
    "        rospy.wait_for_service('gazebo/reset_world')\n",
    "        try:\n",
    "            reset_simulation()\n",
    "        \n",
    "        except(rospy.ServiceException) as e :\n",
    "            print (\"reset_world failed!\")\n",
    "        reset_joint_hassan()\n",
    "        time.sleep(1)\n",
    "        set_robot_state()"
   ]
  },
  {
   "cell_type": "code",
   "execution_count": 32,
   "metadata": {
    "id": "l62X6hmlvvnp"
   },
   "outputs": [],
   "source": [
    "def error_compensator() :\n",
    "    \n",
    "    st= time.time()\n",
    "    global break_loop\n",
    "    while True : \n",
    "         a = tf.constant([robot_state.LAP_theta ,robot_state.LAR_theta ,robot_state.LHP_theta ,robot_state.LHR_theta ,\n",
    "robot_state.LHY_theta ,robot_state.LKP_theta, robot_state.RAP_theta, robot_state.RAR_theta ,\n",
    "robot_state.RHP_theta ,robot_state.RHR_theta, robot_state.RHY_theta ,robot_state.RKP_theta ])\n",
    "         error_norm = tf.norm(a,ord=2)#norm1\n",
    "         \n",
    "         if error_norm < 0.03 or abs(robot_state.outer_ring_inner_ring_theta)>9:\n",
    "                break\n",
    "         if abs(st-time.time()) > 300 :\n",
    "                break_loop = True\n",
    "                print(\"-----------tool_keshid_oomadam_biroon--------\")\n",
    "                break\n"
   ]
  },
  {
   "cell_type": "code",
   "execution_count": 33,
   "metadata": {
    "id": "D9aH7y3zvvnj"
   },
   "outputs": [],
   "source": [
    "def take_action(action):\n",
    "    rospy.wait_for_service('/gazebo/unpause_physics')\n",
    "\n",
    "    try:\n",
    "        unpause()\n",
    "    except (rospy.ServiceException) as e:\n",
    "        print (\"/gazebo/pause_physics service call failed\")\n",
    "    #print(\"ok i am in before scler\")\n",
    "    \n",
    "    action = map_scaler(action)    \n",
    "    #print(\"ok iam in after scaler\")\n",
    "    LAP.publish(action[0])\n",
    "    #LAR.publish(0)\n",
    "    LHP.publish(action[2])\n",
    "    #LHR.publish(0)\n",
    "    LHY.publish(action[4])\n",
    "    LKP.publish(action[5])\n",
    "    RAP.publish(action[6])\n",
    "    #RAR.publish(0)\n",
    "    RHP.publish(action[8])\n",
    "    #RHR.publish(0)\n",
    "    RHY.publish(action[10])\n",
    "    RKP.publish(action[11])\n",
    "\n",
    "\n",
    "    reward = -0.1  # when it used to run, used to be -0.1\n",
    "    current_time = time.time()\n",
    "    \n",
    "    #print(robot_state.waist_z)\n",
    "    if robot_state.waist_z > 0.40 and robot_state.waist_z < 0.85 :#0.36\n",
    "        #print(\"ekhtelaf:\",robot_state.outer_ring_inner_ring_theta - robot_state.last_outer_ring_inner_ring_theta)\n",
    "        #if  (robot_state.outer_ring_inner_ring_theta - robot_state.last_outer_ring_inner_ring_theta) >= 0.09: #-0.001forward motion\n",
    "\n",
    "            delta_time = current_time - robot_state.last_time\n",
    "\n",
    "            reward += ((robot_state.outer_ring_inner_ring_theta - robot_state.last_outer_ring_inner_ring_theta))*100\n",
    "    else :\n",
    "        reward += -100\n",
    "        #print(\"i am in if 1\")\n",
    "        robot_state.done = True\n",
    "        robot_state.fall = 1\n",
    "        \n",
    "    if robot_state.outer_ring_inner_ring_theta > 9.0:\n",
    "        #reward += 100\n",
    "        #print('i am in if 2')\n",
    "        robot_state.done = True\n",
    "        robot_state.fall = 1\n",
    "        break_loop = True\n",
    "        print(\"-----------tool_keshid_oomadam_biroon--------\")\n",
    "        print (\"REACHED TO THE END!\")\n",
    "\n",
    "    robot_state.last_time = current_time\n",
    "    robot_state.last_outer_ring_inner_ring_theta = robot_state.outer_ring_inner_ring_theta\n",
    "    \n",
    "    #\"outer_ring_inner_ring_theta :\",robot_state.outer_ring_inner_ring_theta,\n",
    "    #      \"last_outer_ring_inner_ring_theta:\",robot_state.last_outer_ring_inner_ring_theta,\n",
    "    #     \"ekhtelaf :\",robot_state.outer_ring_inner_ring_theta - robot_state.last_outer_ring_inner_ring_theta)\n",
    "    rate.sleep()\n",
    "    return reward, robot_state.done"
   ]
  },
  {
   "cell_type": "code",
   "execution_count": 34,
   "metadata": {
    "id": "fYh50AQzvvnj"
   },
   "outputs": [],
   "source": [
    "def callbackJointStates(data):\n",
    "\n",
    "    robot_state.data = data\n",
    "    \n",
    "\n",
    "    if len(data.velocity)!=0:\n",
    "        \n",
    "        robot_state.LAP_theta_dot = data.velocity[0]\n",
    "        \n",
    "        robot_state.LAR_theta_dot = data.velocity[1]\n",
    "        \n",
    "        robot_state.LHP_theta_dot = data.velocity[2]\n",
    "        \n",
    "        robot_state.LHR_theta_dot = data.velocity[3]\n",
    "        \n",
    "        robot_state.LHY_theta_dot = data.velocity[4]\n",
    "        \n",
    "        robot_state.LKP_theta_dot = data.velocity[5]\n",
    "        \n",
    "        robot_state.RAP_theta_dot = data.velocity[6]\n",
    "        \n",
    "        robot_state.RAR_theta_dot = data.velocity[7]\n",
    "        \n",
    "        robot_state.RHP_theta_dot = data.velocity[8]\n",
    "        \n",
    "        robot_state.RHR_theta_dot = data.velocity[9]\n",
    "        \n",
    "        robot_state.RHY_theta_dot = data.velocity[10]\n",
    "        \n",
    "        robot_state.RKP_theta_dot = data.velocity[11]\n",
    "        \n",
    "\n",
    "\n",
    "        robot_state.LAP_theta = data.position[0]\n",
    "        robot_state.LAR_theta = data.position[1]\n",
    "        robot_state.LHP_theta = data.position[2]\n",
    "        robot_state.LHR_theta = data.position[3]\n",
    "        robot_state.LHY_theta = data.position[4]\n",
    "        robot_state.LKP_theta = data.position[5]\n",
    "        robot_state.RAP_theta = data.position[6]\n",
    "        robot_state.RAR_theta = data.position[7]\n",
    "        robot_state.RHP_theta = data.position[8]\n",
    "        robot_state.RHR_theta = data.position[9]\n",
    "        robot_state.RHY_theta = data.position[10]\n",
    "        robot_state.RKP_theta = data.position[11]\n",
    "\n",
    "        \n",
    "\n",
    "    else:\n",
    "        robot_state.LAP_theta_dot = 0\n",
    "        \n",
    "        robot_state.LAR_theta_dot = 0\n",
    "        \n",
    "        robot_state.LHP_theta_dot = 0\n",
    "        \n",
    "        robot_state.LHR_theta_dot = 0\n",
    "        \n",
    "        robot_state.LHY_theta_dot = 0\n",
    "        \n",
    "        robot_state.LKP_theta_dot = 0\n",
    "        \n",
    "        robot_state.RAP_theta_dot = 0\n",
    "        \n",
    "        robot_state.RAR_theta_dot = 0\n",
    "        \n",
    "        robot_state.RHP_theta_dot = 0\n",
    "        \n",
    "        robot_state.RHR_theta_dot = 0\n",
    "        \n",
    "        robot_state.RHY_theta_dot = 0\n",
    "        \n",
    "        robot_state.RKP_theta_dot = 0\n",
    "\n",
    "        robot_state.LAP_theta = 0\n",
    "        robot_state.LAR_theta = 0\n",
    "        robot_state.LHP_theta = 0\n",
    "        robot_state.LHR_theta = 0\n",
    "        robot_state.LHY_theta = 0\n",
    "        robot_state.LKP_theta = 0\n",
    "        robot_state.RAP_theta = 0\n",
    "        robot_state.RAR_theta = 0\n",
    "        robot_state.RHP_theta = 0\n",
    "        robot_state.RHR_theta = 0\n",
    "        robot_state.RHY_theta = 0\n",
    "        robot_state.RKP_theta = 0\n",
    "\n",
    "    set_robot_state()\n",
    "    #rate.sleep()\n"
   ]
  },
  {
   "cell_type": "code",
   "execution_count": 35,
   "metadata": {
    "id": "CAAcVkUsvvnj"
   },
   "outputs": [],
   "source": [
    "def callbackSub(data):\n",
    "    set_robot_state()\n"
   ]
  },
  {
   "cell_type": "code",
   "execution_count": 36,
   "metadata": {
    "id": "BC0u_m_wvvnk"
   },
   "outputs": [],
   "source": [
    "def callbackContactShankR(data):\n",
    "    if not data.states:\n",
    "        robot_state.footr_contact = 0\n",
    "    else:\n",
    "        robot_state.footr_contact = 1\n"
   ]
  },
  {
   "cell_type": "code",
   "execution_count": 37,
   "metadata": {
    "id": "U63W9grrvvnk"
   },
   "outputs": [],
   "source": [
    "def callbackContactShankL(data):\n",
    "    if not data.states:\n",
    "        robot_state.footl_contact = 0\n",
    "    else:\n",
    "        robot_state.footl_contact = 1\n"
   ]
  },
  {
   "cell_type": "code",
   "execution_count": 38,
   "metadata": {
    "id": "jrMEzNYivvnk"
   },
   "outputs": [],
   "source": [
    "def Posecallback(data):\n",
    "    try:\n",
    "      ind = data.name.index(\"uthai::base_link\")\n",
    "      link_pose = data.pose[ind].position\n",
    "\n",
    "      robot_state.outer_ring_inner_ring_theta = link_pose.x\n",
    "      robot_state.waist_z = link_pose.z\n",
    "    except ValueError:\n",
    "      pass"
   ]
  },
  {
   "cell_type": "code",
   "execution_count": 39,
   "metadata": {
    "id": "Pn1qR28xvvnk"
   },
   "outputs": [],
   "source": [
    "def listener():\n",
    "    print (\"listener\")\n",
    "    #LAR.publish(0)\n",
    "    #LHR.publish(0)\n",
    "    #RAR.publish(0)\n",
    "    #RHR.publish(0)\n",
    "\n",
    "    rospy.Subscriber(\"/uthai/joint_states\", JointState, callbackJointStates)\n",
    "    \n",
    "    rospy.Subscriber(\"/gazebo/link_states\", LinkStates, Posecallback)\n",
    "    \n",
    "    \n",
    "    #rospy.Subscriber(\"/l_bumper_topic\",ContactsState,callback_contact_l)\n",
    "    #rospy.Subscriber(\"/r_bumper_topic\" ,ContactsState,callback_contact_r)\n",
    "    #rospy.Subscriber(\"/footR_contact_sensor_state\", ContactsState, callbackContactShankR)\n",
    "    #rospy.Subscriber(\"/footL_contact_sensor_state\", ContactsState, callbackContactShankL)"
   ]
  },
  {
   "cell_type": "code",
   "execution_count": 40,
   "metadata": {
    "id": "791Sximhvvnk"
   },
   "outputs": [],
   "source": [
    "#def callback_contact_l(data) :\n",
    "      \n",
    "        \n",
    "    "
   ]
  },
  {
   "cell_type": "code",
   "execution_count": 41,
   "metadata": {
    "id": "R2-w4y-g0LiV"
   },
   "outputs": [],
   "source": [
    "tf.keras.backend.set_floatx('float64')\n"
   ]
  },
  {
   "cell_type": "code",
   "execution_count": 42,
   "metadata": {
    "id": "5sW0IEPJ0a6U"
   },
   "outputs": [],
   "source": [
    "EPSILON = 1e-16"
   ]
  },
  {
   "cell_type": "code",
   "execution_count": 43,
   "metadata": {
    "id": "b4TvnA6i2mxH"
   },
   "outputs": [],
   "source": [
    "class Actor(Model):\n",
    "\n",
    "    def __init__(self, action_dim):\n",
    "        super().__init__()\n",
    "        self.action_dim = action_dim\n",
    "        self.dense1_layer = layers.Dense(400)\n",
    "        self.dense2_layer = layers.Dense(300)\n",
    "        self.mean_layer = layers.Dense(self.action_dim)\n",
    "        self.stdev_layer = layers.Dense(self.action_dim)\n",
    "        self.bn1 = layers.BatchNormalization()\n",
    "        self.bn2 = layers.BatchNormalization()\n",
    "        self.act1=layers.Activation(\"relu\")\n",
    "        self.act2=layers.Activation(\"relu\")\n",
    "        \n",
    "    def call(self, state):\n",
    "        # Get mean and standard deviation from the policy network\n",
    "        \n",
    "        #print(\"state\",state)\n",
    "        state= self.dense1_layer(state)\n",
    "        state= self.bn1(state)\n",
    "        a1= self.act1(state)\n",
    "        #print(\"a1:\",a1)\n",
    "        #print()\n",
    "        a1 = self.dense2_layer(a1)\n",
    "        a1= self.bn2(a1)\n",
    "        a2= self.act2(a1)\n",
    "\n",
    "        #print(\"a2:\",a2)\n",
    "        mu = self.mean_layer(a2)\n",
    "        #print(\"mu\",mu)\n",
    "        # Standard deviation is bounded by a constraint of being non-negative\n",
    "        # therefore we produce log stdev as output which can be [-inf, inf]\n",
    "        log_sigma = self.stdev_layer(a2)\n",
    "        #print(\"log_sigma\",log_sigma)\n",
    "        sigma = tf.exp(log_sigma)\n",
    "        #print(\"sigma\",sigma)\n",
    "        # Use re-parameterization trick to deterministically sample action from\n",
    "        # the policy network. First, sample from a Normal distribution of\n",
    "        # sample size as the action and multiply it with stdev\n",
    "        dist = tfp.distributions.Normal(mu, sigma)\n",
    "        action_ = dist.sample()\n",
    "\n",
    "        # Apply the tanh squashing to keep the gaussian bounded in (-1,1)\n",
    "        action = tf.tanh(action_)\n",
    "\n",
    "        # Calculate the log probability\n",
    "        log_pi_ = dist.log_prob(action_)\n",
    "        # Change log probability to account for tanh squashing as mentioned in\n",
    "        # Appendix C of the paper\n",
    "        log_pi = log_pi_ - tf.reduce_sum(tf.math.log(1 - action**2 + EPSILON), axis=1,\n",
    "                                         keepdims=True)\n",
    "\n",
    "        return action, log_pi\n",
    "\n",
    "    @property\n",
    "    def trainable_variables(self):\n",
    "        return self.dense1_layer.trainable_variables + \\\n",
    "                self.dense1_layer.trainable_variables + \\\n",
    "                self.mean_layer.trainable_variables + \\\n",
    "                self.stdev_layer.trainable_variables\n"
   ]
  },
  {
   "cell_type": "code",
   "execution_count": 44,
   "metadata": {
    "id": "29w8Bu4-HeZc"
   },
   "outputs": [],
   "source": [
    "class Critic(Model):\n",
    "\n",
    "    def __init__(self):\n",
    "        super().__init__()\n",
    "        self.dense1_layer = layers.Dense(400, activation=tf.nn.relu)\n",
    "        self.dense2_layer = layers.Dense(300, activation=tf.nn.relu)\n",
    "        self.output_layer = layers.Dense(1)\n",
    "\n",
    "    def call(self, state, action):\n",
    "        state_action = tf.concat([state, action], axis=1)\n",
    "        a1 = self.dense1_layer(state_action)\n",
    "        a2 = self.dense2_layer(a1)\n",
    "        q = self.output_layer(a2)\n",
    "        return q\n",
    "\n",
    "    @property\n",
    "    def trainable_variables(self):\n",
    "        return self.dense1_layer.trainable_variables + \\\n",
    "                self.output_layer.trainable_variables + \\\n",
    "                self.dense2_layer.trainable_variables"
   ]
  },
  {
   "cell_type": "code",
   "execution_count": 45,
   "metadata": {
    "id": "7wSxi_WSIeyU"
   },
   "outputs": [],
   "source": [
    "class SoftActorCritic:\n",
    "\n",
    "    def __init__(self, action_dim, writer, epoch_step=1, learning_rate=1e-3,\n",
    "                 alpha=0.2, gamma=0.99,\n",
    "                polyak=0.995):\n",
    "        self.policy = Actor(action_dim)\n",
    "        self.q1 = Critic()\n",
    "        self.q2 = Critic()\n",
    "        self.target_q1 = Critic()\n",
    "        self.target_q2 = Critic()\n",
    "\n",
    "        self.writer = writer\n",
    "        self.epoch_step = epoch_step\n",
    "\n",
    "        self.alpha = tf.Variable(0.0, dtype=tf.float64)\n",
    "        self.target_entropy = -tf.constant(action_dim, dtype=tf.float64)\n",
    "        self.gamma = gamma\n",
    "        self.polyak = polyak\n",
    "\n",
    "        self.actor_optimizer = tf.keras.optimizers.Adam(learning_rate)\n",
    "        self.critic1_optimizer = tf.keras.optimizers.Adam(learning_rate)\n",
    "        self.critic2_optimizer = tf.keras.optimizers.Adam(learning_rate)\n",
    "        self.alpha_optimizer = tf.keras.optimizers.Adam(learning_rate)\n",
    "\n",
    "\n",
    "    def sample_action(self, current_state):\n",
    "        current_state_ = np.array(current_state, ndmin=2)\n",
    "        action, _ = self.policy(current_state_)\n",
    "        return action[0]\n",
    "\n",
    "\n",
    "    def update_q_network(self, current_states, actions, rewards, next_states, ends):\n",
    "\n",
    "        with tf.GradientTape() as tape1:\n",
    "            # Get Q value estimates, action used here is from the replay buffer\n",
    "            q1 = self.q1(current_states, actions)\n",
    "\n",
    "            # Sample actions from the policy for next states\n",
    "            pi_a, log_pi_a = self.policy(next_states)\n",
    "\n",
    "            # Get Q value estimates from target Q network\n",
    "            q1_target = self.target_q1(next_states, pi_a)\n",
    "            q2_target = self.target_q2(next_states, pi_a)\n",
    "\n",
    "            # Apply the clipped double Q trick\n",
    "            # Get the minimum Q value of the 2 target networks\n",
    "            min_q_target = tf.minimum(q1_target, q2_target)\n",
    "\n",
    "            # Add the entropy term to get soft Q target\n",
    "            soft_q_target = min_q_target - self.alpha * log_pi_a\n",
    "            y = tf.stop_gradient(rewards + self.gamma * ends * soft_q_target)\n",
    "\n",
    "            critic1_loss = tf.reduce_mean((q1 - y)**2)\n",
    "\n",
    "        with tf.GradientTape() as tape2:\n",
    "            # Get Q value estimates, action used here is from the replay buffer\n",
    "            q2 = self.q2(current_states, actions)\n",
    "\n",
    "            # Sample actions from the policy for next states\n",
    "            pi_a, log_pi_a = self.policy(next_states)\n",
    "\n",
    "            # Get Q value estimates from target Q network\n",
    "            q1_target = self.target_q1(next_states, pi_a)\n",
    "            q2_target = self.target_q2(next_states, pi_a)\n",
    "\n",
    "            # Apply the clipped double Q trick\n",
    "            # Get the minimum Q value of the 2 target networks\n",
    "            min_q_target = tf.minimum(q1_target, q2_target)\n",
    "\n",
    "            # Add the entropy term to get soft Q target\n",
    "            soft_q_target = min_q_target - self.alpha * log_pi_a\n",
    "            y = tf.stop_gradient(rewards + self.gamma * ends * soft_q_target)\n",
    "\n",
    "            critic2_loss = tf.reduce_mean((q2 - y)**2)\n",
    "\n",
    "        grads1 = tape1.gradient(critic1_loss, self.q1.trainable_variables)\n",
    "        self.critic1_optimizer.apply_gradients(zip(grads1,\n",
    "                                                   self.q1.trainable_variables))\n",
    "\n",
    "        grads2 = tape2.gradient(critic2_loss, self.q2.trainable_variables)\n",
    "        self.critic2_optimizer.apply_gradients(zip(grads2,\n",
    "                                                   self.q2.trainable_variables))\n",
    "\n",
    "        with self.writer.as_default():\n",
    "            for grad, var in zip(grads1, self.q1.trainable_variables):\n",
    "                tf.summary.histogram(f\"grad-{var.name}\", grad, self.epoch_step)\n",
    "                tf.summary.histogram(f\"var-{var.name}\", var, self.epoch_step)\n",
    "            for grad, var in zip(grads2, self.q2.trainable_variables):\n",
    "                tf.summary.histogram(f\"grad-{var.name}\", grad, self.epoch_step)\n",
    "                tf.summary.histogram(f\"var-{var.name}\", var, self.epoch_step)\n",
    "\n",
    "        return critic1_loss, critic2_loss\n",
    "\n",
    "    def update_policy_network(self, current_states):\n",
    "        with tf.GradientTape() as tape:\n",
    "            # Sample actions from the policy for current states\n",
    "            pi_a, log_pi_a = self.policy(current_states)\n",
    "\n",
    "            # Get Q value estimates from target Q network\n",
    "            q1 = self.q1(current_states, pi_a)\n",
    "            q2 = self.q2(current_states, pi_a)\n",
    "\n",
    "            # Apply the clipped double Q trick\n",
    "            # Get the minimum Q value of the 2 target networks\n",
    "            min_q = tf.minimum(q1, q2)\n",
    "\n",
    "            soft_q = min_q - self.alpha * log_pi_a\n",
    "\n",
    "            actor_loss = -tf.reduce_mean(soft_q)\n",
    "\n",
    "        variables = self.policy.trainable_variables\n",
    "        grads = tape.gradient(actor_loss, variables)\n",
    "        self.actor_optimizer.apply_gradients(zip(grads, variables))\n",
    "\n",
    "        with self.writer.as_default():\n",
    "            for grad, var in zip(grads, variables):\n",
    "                tf.summary.histogram(f\"grad-{var.name}\", grad, self.epoch_step)\n",
    "                tf.summary.histogram(f\"var-{var.name}\", var, self.epoch_step)\n",
    "\n",
    "        return actor_loss\n",
    "\n",
    "\n",
    "    def update_alpha(self, current_states):\n",
    "        with tf.GradientTape() as tape:\n",
    "            # Sample actions from the policy for current states\n",
    "            pi_a, log_pi_a = self.policy(current_states)\n",
    "\n",
    "            alpha_loss = tf.reduce_mean( - self.alpha*(log_pi_a +\n",
    "                                                       self.target_entropy))\n",
    "\n",
    "        variables = [self.alpha]\n",
    "        grads = tape.gradient(alpha_loss, variables)\n",
    "        self.alpha_optimizer.apply_gradients(zip(grads, variables))\n",
    "\n",
    "        with self.writer.as_default():\n",
    "            for grad, var in zip(grads, variables):\n",
    "                tf.summary.histogram(f\"grad-{var.name}\", grad, self.epoch_step)\n",
    "                tf.summary.histogram(f\"var-{var.name}\", var, self.epoch_step)\n",
    "\n",
    "        return alpha_loss\n",
    "\n",
    "\n",
    "    def train(self, current_states, actions, rewards, next_states, ends):\n",
    "\n",
    "        # Update Q network weights\n",
    "        critic1_loss, critic2_loss = self.update_q_network(current_states, actions, rewards, next_states, ends)\n",
    "\n",
    "        # Update policy network weights\n",
    "        actor_loss = self.update_policy_network(current_states)\n",
    "\n",
    "        alpha_loss = self.update_alpha(current_states)\n",
    "\n",
    "        # Update target Q network weights\n",
    "        #self.update_weights()\n",
    "\n",
    "        #if self.epoch_step % 10 == 0:\n",
    "        #    self.alpha = max(0.1, 0.9**(1+self.epoch_step/10000))\n",
    "        #    print(\"alpha: \", self.alpha, 1+self.epoch_step/10000)\n",
    "\n",
    "        return critic1_loss, critic2_loss, actor_loss, alpha_loss\n",
    "\n",
    "    def update_weights(self):\n",
    "\n",
    "        for theta_target, theta in zip(self.target_q1.trainable_variables,\n",
    "                                       self.q1.trainable_variables):\n",
    "            theta_target = self.polyak * theta_target + (1 - self.polyak) * theta\n",
    "\n",
    "        for theta_target, theta in zip(self.target_q2.trainable_variables,\n",
    "                                       self.q2.trainable_variables):\n",
    "            theta_target = self.polyak * theta_target + (1 - self.polyak) * theta"
   ]
  },
  {
   "cell_type": "code",
   "execution_count": 46,
   "metadata": {
    "id": "DrzwpHBEDsVs"
   },
   "outputs": [],
   "source": [
    "class ReplayBuffer:\n",
    "\n",
    "    def __init__(self, state_space, action_space, max_size=300000):\n",
    "        self.current_states = np.empty((0, state_space), dtype=np.float64)\n",
    "        self.actions = np.empty((0, action_space), dtype=np.float64)\n",
    "        self.rewards = np.empty((0, 1), dtype=np.float64)\n",
    "        self.next_states = np.empty((0, state_space), dtype=np.float64)\n",
    "        self.ends = np.empty((0, 1), dtype=np.float64)\n",
    "        self.total_size = 0\n",
    "        self.max_size = max_size\n",
    "\n",
    "    def store(self, current_state, action, reward, next_state, end):\n",
    "        self.current_states = np.append(self.current_states[-self.max_size:],\n",
    "                                        np.array(current_state, ndmin=2), axis=0)\n",
    "        \n",
    "        self.actions = np.append(self.actions[-self.max_size:],\n",
    "                                 np.array(action, ndmin=2), axis=0)\n",
    "\n",
    "        self.rewards = np.append(self.rewards[-self.max_size:],\n",
    "                                 np.array(reward, ndmin=2), axis=0)\n",
    "        self.next_states = np.append(self.next_states[-self.max_size:],\n",
    "                                     np.array(next_state, ndmin=2), axis=0)\n",
    "        self.ends = np.append(self.ends[-self.max_size:],\n",
    "                              np.array(end, ndmin=2), axis=0)\n",
    "        self.total_size += 1\n",
    "\n",
    "    def fetch_sample(self, num_samples):\n",
    "   \n",
    "        if num_samples > self.total_size:\n",
    "            num_samples = self.total_size\n",
    "       \n",
    "        idx = np.random.choice(range(min(self.total_size, self.max_size)),\n",
    "                               size=num_samples,\n",
    "                               replace=False)\n",
    "        current_states_ = self.current_states[idx]\n",
    "        actions_ = self.actions[idx]\n",
    "        rewards_ = self.rewards[idx]\n",
    "        next_states_ = self.next_states[idx]\n",
    "        ends_ = self.ends[idx]\n",
    "\n",
    "        return current_states_, actions_, rewards_, next_states_, ends_"
   ]
  },
  {
   "cell_type": "code",
   "execution_count": 47,
   "metadata": {
    "colab": {
     "base_uri": "https://localhost:8080/"
    },
    "id": "In5g8E0cJpmI",
    "outputId": "b0577681-dbc7-4b8f-968f-8aacafdc3e2c"
   },
   "outputs": [
    {
     "data": {
      "text/plain": [
       "_StoreAction(option_strings=['--learning_rate'], dest='learning_rate', nargs=None, const=None, default=0.001, type=<class 'float'>, choices=None, help='learning rate', metavar=None)"
      ]
     },
     "execution_count": 47,
     "metadata": {},
     "output_type": "execute_result"
    }
   ],
   "source": [
    "logging.basicConfig(level='INFO')\n",
    "\n",
    "parser = argparse.ArgumentParser(description='SAC')\n",
    "parser.add_argument('--seed', type=int, default=42,\n",
    "                    help='random seed')\n",
    "parser.add_argument('--env_name', type=str, default='MountainCarContinuous-v0',\n",
    "                    help='name of the gym environment with version')\n",
    "parser.add_argument('--render', type=bool, default=False,\n",
    "                    help='set gym environment to render display')\n",
    "parser.add_argument('--verbose', type=bool, default=False,\n",
    "                    help='log execution details')\n",
    "parser.add_argument('--batch_size', type=int, default=128,\n",
    "                    help='minibatch sample size for training')\n",
    "parser.add_argument('--epochs', type=int, default=50,\n",
    "                    help='number of epochs to run backprop in an episode')\n",
    "parser.add_argument('--start_steps', type=int, default=0,\n",
    "                    help='number of global steps before random exploration ends')\n",
    "parser.add_argument('--model_path', type=str, default='../data/models/',\n",
    "                    help='path to save model')\n",
    "parser.add_argument('--model_name', type=str,\n",
    "                    default=f'{str(datetime.utcnow().date())}-{str(datetime.utcnow().time())}',\n",
    "                    help='name of the saved model')\n",
    "parser.add_argument('--gamma', type=float, default=0.99,\n",
    "                    help='discount factor for future rewards')\n",
    "parser.add_argument('--polyak', type=float, default=0.995,\n",
    "                    help='coefficient for polyak averaging of Q network weights')\n",
    "parser.add_argument('--learning_rate', type=float, default=0.001,\n",
    "                    help='learning rate')\n"
   ]
  },
  {
   "cell_type": "code",
   "execution_count": 48,
   "metadata": {
    "colab": {
     "base_uri": "https://localhost:8080/"
    },
    "id": "sDW_rx-xQP2h",
    "outputId": "d8a7f0dd-88f5-4a89-c9f2-7d5d3ebd3ee9"
   },
   "outputs": [
    {
     "name": "stdout",
     "output_type": "stream",
     "text": [
      "state space : 24   action_space : 12\n"
     ]
    },
    {
     "name": "stderr",
     "output_type": "stream",
     "text": [
      "2021-11-03 04:36:34.516555: I tensorflow/stream_executor/cuda/cuda_gpu_executor.cc:937] successful NUMA node read from SysFS had negative value (-1), but there must be at least one NUMA node, so returning NUMA node zero\n",
      "2021-11-03 04:36:34.516970: I tensorflow/stream_executor/cuda/cuda_gpu_executor.cc:937] successful NUMA node read from SysFS had negative value (-1), but there must be at least one NUMA node, so returning NUMA node zero\n",
      "2021-11-03 04:36:34.517245: I tensorflow/stream_executor/cuda/cuda_gpu_executor.cc:937] successful NUMA node read from SysFS had negative value (-1), but there must be at least one NUMA node, so returning NUMA node zero\n",
      "2021-11-03 04:36:34.517743: I tensorflow/stream_executor/cuda/cuda_gpu_executor.cc:937] successful NUMA node read from SysFS had negative value (-1), but there must be at least one NUMA node, so returning NUMA node zero\n",
      "2021-11-03 04:36:34.518123: I tensorflow/stream_executor/cuda/cuda_gpu_executor.cc:937] successful NUMA node read from SysFS had negative value (-1), but there must be at least one NUMA node, so returning NUMA node zero\n",
      "2021-11-03 04:36:34.518436: I tensorflow/stream_executor/cuda/cuda_gpu_executor.cc:937] successful NUMA node read from SysFS had negative value (-1), but there must be at least one NUMA node, so returning NUMA node zero\n",
      "2021-11-03 04:36:34.518794: I tensorflow/stream_executor/cuda/cuda_gpu_executor.cc:937] successful NUMA node read from SysFS had negative value (-1), but there must be at least one NUMA node, so returning NUMA node zero\n",
      "2021-11-03 04:36:34.519103: I tensorflow/stream_executor/cuda/cuda_gpu_executor.cc:937] successful NUMA node read from SysFS had negative value (-1), but there must be at least one NUMA node, so returning NUMA node zero\n",
      "2021-11-03 04:36:34.519400: I tensorflow/core/common_runtime/gpu/gpu_device.cc:1510] Created device /job:localhost/replica:0/task:0/device:GPU:0 with 2126 MB memory:  -> device: 0, name: NVIDIA GeForce RTX 3050 Ti Laptop GPU, pci bus id: 0000:01:00.0, compute capability: 8.6\n"
     ]
    }
   ],
   "source": [
    "#tf.random.set_seed(args.seed)\n",
    "writer = tf.summary.create_file_writer('../data/models/' + f'{str(datetime.utcnow().date())}-{str(datetime.utcnow().time())}' + '/summary')\n",
    "state_space = 24 #state_space\n",
    "action_space = 12 #action space\n",
    "\n",
    "print(\"state space :\" , state_space , \"  action_space :\" ,  action_space)\n",
    "\n",
    "replay = ReplayBuffer(state_space, action_space)\n",
    "\n",
    "sac = SoftActorCritic(action_space, writer,\n",
    "                      learning_rate=0.001,\n",
    "                      gamma=0.99, polyak=0.995)\n",
    "#sac.policy.load_weights('../data/models' + '/2021-09-25-10:24:27.970811/model')\n",
    "#sac.policy.load_weights(\"model\")\n",
    "old_action_min = -1\n",
    "old_action_max = +1\n",
    "#                             LAP,      LAR   ,LHP,  LHR,  LHY,LKP,  RAP,  RAR,  RHP,   RHR,  RHY,RKP\n",
    "new_action_min = tf.constant([ -0.349, 0.0, -1.396 , 0.0,-0.8, 0.0,-0.349, 0.0,-1.396,  0.0, -0.8, 0],dtype =tf.float64)\n",
    "new_action_max = tf.constant([1.047  , 0.0,  1.396 , 0.0, 0.8, 1.4, 1.047, 0.0, 1.396,  0.0 , 0.8,1.4],dtype =tf.float64)\n",
    "\n",
    "uniform_sampling= tfp.distributions.Uniform(\n",
    "    low=new_action_min, \n",
    "    high=new_action_max, validate_args=False, allow_nan_stats=True,\n",
    "    name='Uniform'\n",
    ")\n"
   ]
  },
  {
   "cell_type": "code",
   "execution_count": 49,
   "metadata": {
    "id": "xVMefObzvvnn"
   },
   "outputs": [],
   "source": [
    "def map_scaler(action) :\n",
    "   \n",
    "   new_action = tf.math.multiply((action - old_action_min)/(old_action_max-old_action_min),new_action_max-new_action_min) + new_action_min\n",
    "   return new_action"
   ]
  },
  {
   "cell_type": "code",
   "execution_count": 50,
   "metadata": {},
   "outputs": [
    {
     "name": "stdout",
     "output_type": "stream",
     "text": [
      "/home/hassan/catkin_ws/src/UTHAI-Common/uthai_gazebo/scripts/SAC\n"
     ]
    }
   ],
   "source": [
    "cd ~/catkin_ws/src/UTHAI-Common/uthai_gazebo/scripts/SAC/"
   ]
  },
  {
   "cell_type": "code",
   "execution_count": 51,
   "metadata": {
    "scrolled": false
   },
   "outputs": [],
   "source": [
    "replay.actions = np.load('actions.npy')    # .npy extension is added if not given\n",
    "replay.current_states = np.load('current_states.npy')    # .npy extension is added if not given\n",
    "replay.next_states = np.load('next_states.npy')    # .npy extension is added if not given\n",
    "replay.ends = np.load('ends.npy')    # .npy extension is added if not given\n",
    "replay.rewards = np.load('rewards.npy')    # .npy extension is added if not given\n",
    "replay.total_size= len(replay.actions)\n",
    "break_loop=False\n",
    "episode_rewards=list(np.load('episode_rewards.npy'))\n",
    "episode=replay.total_size\n"
   ]
  },
  {
   "cell_type": "code",
   "execution_count": 52,
   "metadata": {},
   "outputs": [
    {
     "name": "stdout",
     "output_type": "stream",
     "text": [
      "/home/hassan/catkin_ws/src/UTHAI-Common/uthai_gazebo/scripts/data/models/2021-10-31-08:31:28.564283\n"
     ]
    }
   ],
   "source": [
    "cd ~/catkin_ws/src/UTHAI-Common/uthai_gazebo/scripts/data/models/2021-10-31-08:31:28.564283"
   ]
  },
  {
   "cell_type": "code",
   "execution_count": 53,
   "metadata": {},
   "outputs": [
    {
     "data": {
      "text/plain": [
       "<tensorflow.python.training.tracking.util.CheckpointLoadStatus at 0x7f849682d760>"
      ]
     },
     "execution_count": 53,
     "metadata": {},
     "output_type": "execute_result"
    }
   ],
   "source": [
    "sac.policy.load_weights(\"model\")\n"
   ]
  },
  {
   "cell_type": "code",
   "execution_count": 54,
   "metadata": {},
   "outputs": [
    {
     "data": {
      "text/plain": [
       "[]"
      ]
     },
     "execution_count": 54,
     "metadata": {},
     "output_type": "execute_result"
    }
   ],
   "source": [
    "sac.policy.trainable_variables"
   ]
  },
  {
   "cell_type": "code",
   "execution_count": 55,
   "metadata": {},
   "outputs": [],
   "source": [
    "break_loop=False\n",
    "episode=1\n",
    "episode_rewards=[]"
   ]
  },
  {
   "cell_type": "code",
   "execution_count": 56,
   "metadata": {},
   "outputs": [],
   "source": [
    "break_loop=False\n"
   ]
  },
  {
   "cell_type": "code",
   "execution_count": 57,
   "metadata": {
    "id": "djgHNP9yKSUH"
   },
   "outputs": [],
   "source": [
    "# Repeat until convergence\n",
    "\n",
    "def publisher(LAP,LAR,LHP,LHR,LHY,LKP,RAP,RAR,RHP,RHR,RHY,RKP,rate,counter):\n",
    "\n",
    "            count = 0\n",
    "        \n",
    "            render = False\n",
    "            start_steps=0 \n",
    "            verbose=False\n",
    "            epochs=50\n",
    "            batch_size=256\n",
    "\n",
    "            global_step = 1\n",
    "            global episode\n",
    "            global episode_rewards\n",
    "\n",
    "            \n",
    "\n",
    "            \n",
    "            while not rospy.is_shutdown() :\n",
    "               \n",
    "                #if count == 1:\n",
    "                #    break\n",
    "\n",
    "                # Observe state\n",
    "                if break_loop == True:\n",
    "                    print(episode_rewards)\n",
    "                    break\n",
    "                best_reset()\n",
    "\n",
    "                current_state =np.array([0,0,0,0,0,0,0,0,0,0,0,0,0,0,0,0,0,0,0,0,0,0,0,0],dtype=\"float32\")#shape = (24,)\n",
    "\n",
    "                step = 1\n",
    "                episode_reward = 0\n",
    "                done = False\n",
    "                robot_state.done=False\n",
    "                while not done:\n",
    "\n",
    "\n",
    "                    if global_step < start_steps:\n",
    "\n",
    "                        if np.random.uniform() > 0.8:\n",
    "                            action = uniform_sampling.sample()\n",
    "                        else:\n",
    "                            action = sac.sample_action(current_state)\n",
    "                    else:\n",
    "                        action = sac.sample_action(current_state)\n",
    "\n",
    "                    # Execute action, observe next state and reward\n",
    "                    #print(\"action: \",action,\"****\",robot_state.robot_state)\n",
    "                    #count = count  + 1 \n",
    "                    #print(\"action : \" , action)\n",
    "                    #print(\"***************\")\n",
    "                    reward,done = take_action(action)#ros\n",
    "                    #print(reward,done)\n",
    "                    #print(\"****************************************\")\n",
    "                    next_state = robot_state.robot_state\n",
    "\n",
    "                    episode_reward +=  reward\n",
    "\n",
    "                    # Set end to 0 if the episode ends otherwise make it 1\n",
    "                    # although the meaning is opposite but it is just easier to mutiply\n",
    "                    # with reward for the last step.\n",
    "                    if done:\n",
    "                        end = 0\n",
    "                    else:\n",
    "                        end = 1\n",
    "\n",
    "                    if verbose:\n",
    "                        logging.info(f'Global step: {global_step}')\n",
    "                        logging.info(f'current_state: {current_state}')\n",
    "                        logging.info(f'action: {action}')\n",
    "                        logging.info(f'reward: {reward}')\n",
    "                        logging.info(f'next_state: {next_state}')\n",
    "                        logging.info(f'end: {end}')\n",
    "\n",
    "                    # Store transition in replay buffer\n",
    "                    \n",
    "                    replay.store(current_state, action, reward, next_state, end)\n",
    "                    # Update current state\n",
    "                    current_state = next_state\n",
    "\n",
    "                    step += 1\n",
    "                    global_step += 1\n",
    "\n",
    "\n",
    "                \n",
    "                if (step % 1 == 0) and (global_step > start_steps):\n",
    "                    for epoch in range(epochs):\n",
    "\n",
    "                        # Randomly sample minibatch of transitions from replay buffer\n",
    "                        #print(\"in fetch smaple  ............\")\n",
    "                        current_states, actions, rewards, next_states, ends = replay.fetch_sample(num_samples=batch_size)\n",
    "\n",
    "                        # Perform single step of gradient descent on Q and policy\n",
    "                        # network\n",
    "                        #print(\"in training ...............\")\n",
    "                        critic1_loss, critic2_loss, actor_loss, alpha_loss = sac.train(current_states, actions, rewards, next_states, ends)\n",
    "                        #print(\"exit.....\")\n",
    "                        if verbose:\n",
    "                            print(episode, global_step, epoch, critic1_loss.numpy(),\n",
    "                                  critic2_loss.numpy(), actor_loss.numpy(), episode_reward)\n",
    "\n",
    "\n",
    "                        with writer.as_default():\n",
    "                            tf.summary.scalar(\"actor_loss\", actor_loss, sac.epoch_step)\n",
    "                            tf.summary.scalar(\"critic1_loss\", critic1_loss, sac.epoch_step)\n",
    "                            tf.summary.scalar(\"critic2_loss\", critic2_loss, sac.epoch_step)\n",
    "                            tf.summary.scalar(\"alpha_loss\", alpha_loss, sac.epoch_step)\n",
    "\n",
    "                        sac.epoch_step += 1\n",
    "\n",
    "                        if sac.epoch_step % 1 == 0:\n",
    "                            sac.update_weights()\n",
    "\n",
    "\n",
    "                if episode % 1 == 0:\n",
    "                    sac.policy.save_weights('../data/models/' + f'{str(datetime.utcnow().date())}-{str(datetime.utcnow().time())}' + '/model')\n",
    "\n",
    "                episode_rewards.append(episode_reward)\n",
    "                episode += 1\n",
    "\n",
    "                avg_episode_reward = sum(episode_rewards[-100:])/len(episode_rewards[-100:])\n",
    "\n",
    "                print(f\"Episode {episode} reward: {episode_reward}\")\n",
    "                print(f\"{episode} Average episode reward: {avg_episode_reward}\")\n",
    "                with writer.as_default():\n",
    "                    tf.summary.scalar(\"episode_reward\", episode_reward, episode)\n",
    "                    tf.summary.scalar(\"avg_episode_reward\", avg_episode_reward, episode)        "
   ]
  },
  {
   "cell_type": "code",
   "execution_count": 58,
   "metadata": {
    "id": "LkkG5Nhtvvnn"
   },
   "outputs": [],
   "source": [
    "def main():\n",
    "\n",
    "    # Create new threads\n",
    "    thread = Publisher(LAP,LAR,LHP,LHR,LHY,LKP,RAP,RAR,RHP,RHR,RHY,RKP, rate)\n",
    "\n",
    "    # Start new Threads\n",
    "    thread.start()\n",
    "    listener()"
   ]
  },
  {
   "cell_type": "code",
   "execution_count": 59,
   "metadata": {
    "id": "oo9fuaJ2vvnn",
    "outputId": "918f3f8d-1e3b-45d4-bed0-93dcdba8853e",
    "scrolled": true
   },
   "outputs": [
    {
     "name": "stdout",
     "output_type": "stream",
     "text": [
      "listener\n",
      "Episode 2 reward: -130.14558803177573\n",
      "2 Average episode reward: -130.14558803177573\n",
      "Episode 3 reward: -127.69182702454583\n",
      "3 Average episode reward: -128.91870752816078\n",
      "Episode 4 reward: -127.75112661801694\n",
      "4 Average episode reward: -128.52951389144616\n"
     ]
    }
   ],
   "source": [
    "main()"
   ]
  },
  {
   "cell_type": "markdown",
   "metadata": {
    "id": "l2-P_nmDDxUr"
   },
   "source": [
    "#منبع\n",
    "https://github.com/shakti365/soft-actor-critic\n"
   ]
  },
  {
   "cell_type": "code",
   "execution_count": 39,
   "metadata": {},
   "outputs": [],
   "source": [
    "import matplotlib.pyplot as plt"
   ]
  },
  {
   "cell_type": "code",
   "execution_count": 107,
   "metadata": {},
   "outputs": [
    {
     "data": {
      "text/plain": [
       "[<matplotlib.lines.Line2D at 0x7f6358550df0>]"
      ]
     },
     "execution_count": 107,
     "metadata": {},
     "output_type": "execute_result"
    },
    {
     "data": {
      "image/png": "[encoded data removed]",
      "text/plain": [
       "<Figure size 432x288 with 1 Axes>"
      ]
     },
     "metadata": {
      "needs_background": "light"
     },
     "output_type": "display_data"
    },
    {
     "name": "stdout",
     "output_type": "stream",
     "text": [
      "-----------tool_keshid_oomadam_biroon--------\n",
      "Episode 454 reward: -100.1\n",
      "454 Average episode reward: -118.70449597028208\n",
      "[-119.0677961272409, -117.82109943336958, -119.97185042059522, -129.04493754116115, -106.79692437998017, -109.52154627474928, -119.4134536510728, -110.81818449837219, -112.27119873316305, -120.43941081583957, -124.28055715107655, -125.62799552455014, -115.4963088405492, -114.28023085952259, -113.4810453188152, -121.42528764068041, -112.61377966021645, -125.75089372724804, -114.758949489912, -111.8784823816146, -131.61199838972237, -132.65146059060075, -116.21426548718493, -114.81891208341126, -131.24322629310646, -106.96606744091002, -106.26093387706368, -121.46817186340184, -120.73732285054886, -115.2570682357141, -118.5305018094357, -117.19855743254996, -113.31388620230796, -122.12680626933319, -116.48969685874879, -116.51316402035727, -112.95760683807427, -114.88881199102123, -132.15424888894265, -114.79937643208974, -115.32900528060323, -108.55926776577708, -126.31713754210547, -115.45532686780132, -128.58628797181206, -114.3936165203636, -111.7157794515809, -114.23155481968216, -109.23885606079762, -126.88643483608804, -116.70424620118203, -114.58839109637266, -132.23233330035043, -129.70186211012125, -114.64630515141981, -128.621898210331, -129.24437573520723, -126.15672535984135, -123.30571259085079, -115.78607993126694, -106.6636795034471, -121.87380743003567, -108.76889037116224, -128.70293485015634, -109.93985222350948, -128.01513710427136, -117.03484886380065, -127.93702706884729, -121.66358157288678, -115.94470458512724, -113.76248247806113, -109.99570969199661, -117.77274081482716, -114.80453049636594, -113.83565994567437, -112.77729015448145, -111.20023683856505, -133.4756856985988, -131.29303227870315, -123.07544471221972, -128.1946207948181, -113.20236793663989, -114.391512740206, -113.65305284491818, -118.9796976902818, -129.71367753450676, -116.07845295652778, -114.85480474484325, -115.90654389485088, -116.30932613276602, -115.8103309386342, -111.25616152467815, -114.56472101007498, -117.21043433546316, -118.0758955953931, -111.13623523753066, -118.15085143604858, -116.23722794049226, -125.20748915874432, -114.08476723510218, -117.24206658112928, -115.18472661405322, -124.04118588771708, -113.47787707612147, -114.16597590712773, -124.58858207199795, -131.10157750104636, -125.04890676615263, -121.79203130465113, -110.74968025676486, -110.35851697458584, -111.91804559893609, -114.13542629682804, -111.97115240470733, -111.87099596090694, -112.68780812413863, -113.62372956619802, -124.43978257288006, -132.51737470942786, -132.96797737844355, -118.73980651848869, -120.09695245216506, -117.88846954827908, -118.57664766454404, -117.13098474794786, -118.58681656953087, -116.93734254258345, -115.78482844758035, -126.45396949669747, -124.58029521599713, -119.70747955304714, -116.79675538864035, -116.8139113833316, -114.8822267880827, -114.02821399959006, -116.84783035774424, -116.46341822076083, -117.41261085171546, -114.88323462893176, -127.87384046927933, -113.79536397782405, -115.43229575487491, -113.59750747790837, -114.26551578607219, -135.03786254536072, -114.35933632082393, -114.11987037107203, -113.86520416491236, -113.82510488615854, -114.70020700622617, -114.04797946709584, -115.41989832273146, -114.39893294302873, -113.63090661816105, -114.85394560721696, -114.01386323825153, -117.76404553768808, -116.89870986207221, -116.24278237868168, -116.4597744626657, -117.51174989221376, -116.90346542502418, -134.10903094614739, -116.51129815783591, -127.68526683025146, -123.43780092217423, -120.8810883799521, -119.44360035239421, -130.91150884925622, -132.47350337930988, -116.29630417437846, -114.4390370250422, -120.24704067413512, -113.36635067560813, -110.39547642539645, -110.10151341299684, -125.82616713113906, -132.13216742128245, -122.89882753081221, -111.83352135484192, -116.42443789378179, -119.66764964733986, -127.16221374099663, -112.29833322622316, -112.32324595288763, -113.03871827932343, -110.0777278977423, -113.1624403534243, -122.63605289641058, -112.95519869376955, -113.99097012975284, -113.5706352232453, -100.1, -116.98792483766923, -114.90964621664315, -115.59493737418606, -128.34533723236746, -131.83299694021474, -115.08785849936798, -116.55008855021036, -114.06845267334073, -126.5364569715634, -113.26037735423262, -113.8747401493763, -113.16393088390362, -114.37840735072157, -121.3605372895653, -114.34575575605119, -117.73111657793305, -127.06424817751747, -115.71679743132941, -117.97415644290983, -130.99965090952466, -138.4472465558157, -115.76781630951861, -118.90882441534217, -125.07030024793738, -117.6060040784776, -129.2986501632771, -127.92458821883926, -112.96525533199916, -117.23517295421696, -117.3839310759299, -118.23698271438586, -137.54012508304112, -118.69710052523982, -129.38474650329547, -116.78127240120467, -124.68228650605721, -128.67857484128652, -128.13005120453448, -127.54731030181988, -132.73212969232986, -133.96908019347472, -133.03183427933578, -109.7496078919459, -120.44774697282952, -111.14034640228437, -112.03136404273005, -131.45288126226365, -100.1, -98.44564846153953, -113.29075157051227, -130.4404584476155, -135.77947873979804, -103.58099427177123, -110.06462065000139, -110.54162778575123, -119.92013854350895, -124.37725680228374, -120.23412628108169, -117.72067185134611, -111.05259886906934, -119.47854849644109, -115.21948716161207, -119.69739495969012, -123.40434307392454, -116.10585369854417, -116.2149521882368, -108.6063997774863, -107.54996377088766, -123.4039268020828, -124.36823787143621, -114.74229782654443, -117.63942549807196, -118.42202860494467, -118.3477053285582, -115.21861282476043, -114.62033348396835, -111.69633743078796, -122.78683922287684, -111.58257355743007, -124.55530159321151, -132.65542524471775, -120.62097257201503, -117.76240322148192, -96.77808350738869, -123.95496786415242, -111.47795443789262, -135.37461636603922, -116.22764507808834, -127.61602326372412, -125.685319455501, -128.04624148312706, -134.88958326288505, -112.47454805767211, -125.38863957150217, -110.62432002095674, -110.55056229787814, -111.62901938126964, -110.27766923862086, -100.88806255115671, -116.39190012662245, -116.76730120002361, -114.55955847457312, -115.61456416540892, -115.35472398367196, -114.5805003431133, -116.4805031275319, -118.53849535718426, -115.73759882155989, -116.66037623109754, -118.01470817304737, -128.75825038849354, -115.51301599514392, -116.05694056314674, -116.73056471682312, -116.52195195764986, -117.04732526013159, -115.96561727539975, -117.89988700633633, -117.3406493765519, -121.05556052009871, -116.0292704576672, -114.720004735148, -113.70451553331402, -114.18564007879974, -112.83080647899826, -113.16400067355532, -111.54640249158706, -110.7902867106549, -110.49560168565472, -122.29645462006134, -138.91469860402668, -129.58901779103246, -129.47625956595877, -125.0365867055356, -124.26744583871861, -127.0254627771871, -129.5133992247701, -135.09326507018307, -130.01456457918255, -123.56212655024986, -111.88451910060276, -112.94498385561982, -116.7613630664009, -116.85047340226214, -117.35345535394225, -123.27273711515932, -112.50489727495673, -121.85569033265124, -120.56908986362254, -126.41959010101584, -127.65550702113467, -125.79721100471936, -130.35348406909912, -116.62809855076043, -114.14472758376743, -116.51721355937605, -116.40271801670688, -116.84933919389319, -109.07825829534606, -112.99008687752529, -127.04253830910379, -128.39303310695456, -113.75867636763496, -113.91647467549096, -115.99276972767072, -115.84095194419604, -116.30689128166703, -117.40742105588406, -115.26606810306554, -115.71344809154134, -116.30407411499318, -116.4771139239352, -100.1, -76.78895285163374, -132.74451700090668, -114.60652740924138, -114.87684528506796, -132.06446469900231, -114.19684121188479, -129.80419407586996, -139.89499053304354, -110.19813142068432, -132.5886477139756, -126.14839825173978, -114.42058606419006, -122.60144896680052, -114.59821430057723, -128.33142627529625, -115.36119580991777, -126.3794820104998, -128.67949598755888, -127.28428714003292, -127.19961085082299, -123.54523011209443, -131.18268280943332, -111.98236924418075, -131.70108586300262, -110.3237015066684, -132.77695313342065, -111.860187755797, -133.19897074150268, -131.51706733480313, -109.26953333806283, -106.48105325519448, -110.51568496725581, -107.66163490800145, -109.58507575866392, -110.4845666509024, -108.99452398393616, -113.87715518641033, -113.70156942279739, -113.2738291511971, -115.88385468724893, -116.1363587684482, -126.69669023092021, -134.23418817843094, -131.93957074013596, -136.85932630994907, -125.94497756030664, -130.43418353160416, -128.59571182691053, -117.12156966860405, -132.62452147741138, -120.9163606823306, -131.5491796373906, -116.9040846292093, -116.70732160792748, -117.7049540090185, -123.78924764346873, -126.47095498028969, -131.36619384158917, -121.98038375732966, -114.15387051178456, -113.48761902380048, -112.33695253107562, -113.07724440229752, -115.59008660264443, -119.40129222896579, -117.99222238125923, -117.23009310151345, -130.19665000172873, -131.12770769578188, -115.2823094571869, -131.22397765495654, -115.57327504126278, -116.66717303264073, -100.1, -115.60495000706928, -116.15619707263906, -116.94590643232797, -127.22191807182632, -116.35058756631682, -118.63335220923854, -118.96902603008054, -100.1, -100.1, -100.1, -109.54695851907682, -100.1, -100.1]\n"
     ]
    }
   ],
   "source": [
    "plt.plot(episode_rewards)"
   ]
  },
  {
   "cell_type": "code",
   "execution_count": 108,
   "metadata": {},
   "outputs": [],
   "source": [
    "np.save('actions.npy', replay.actions)    # .npy extension is added if not given\n",
    "np.save('current_states.npy', replay.current_states)    # .npy extension is added if not given\n",
    "np.save('next_states.npy', replay.next_states)    # .npy extension is added if not given\n",
    "np.save('ends.npy', replay.ends)    # .npy extension is added if not given\n",
    "np.save('rewards.npy', replay.rewards)    # .npy extension is added if not given\n",
    "np.save('episode_rewards.npy',np.array(episode_rewards))"
   ]
  },
  {
   "cell_type": "code",
   "execution_count": 43,
   "metadata": {},
   "outputs": [
    {
     "data": {
      "text/plain": [
       "array([], shape=(0, 2), dtype=int64)"
      ]
     },
     "execution_count": 43,
     "metadata": {},
     "output_type": "execute_result"
    }
   ],
   "source": [
    "np.argwhere(np.isnan(replay.rewards))\n"
   ]
  },
  {
   "cell_type": "code",
   "execution_count": 76,
   "metadata": {},
   "outputs": [],
   "source": [
    "replay.current_states = replay.current_states[0:-1]"
   ]
  },
  {
   "cell_type": "code",
   "execution_count": 80,
   "metadata": {},
   "outputs": [
    {
     "data": {
      "text/plain": [
       "2431"
      ]
     },
     "execution_count": 80,
     "metadata": {},
     "output_type": "execute_result"
    }
   ],
   "source": [
    "len(replay.rewards)"
   ]
  },
  {
   "cell_type": "code",
   "execution_count": 131,
   "metadata": {},
   "outputs": [
    {
     "name": "stdout",
     "output_type": "stream",
     "text": [
      "0\n",
      "0\n",
      "0\n",
      "0\n",
      "0\n"
     ]
    }
   ],
   "source": [
    "print(len(replay.actions))    # .npy extension is added if not given\n",
    "print(len(replay.current_states))    # .npy extension is added if not given\n",
    "print(len(replay.next_states))    # .npy extension is added if not given\n",
    "print(len(replay.ends))    # .npy extension is added if not given\n",
    "print(len(replay.rewards))"
   ]
  },
  {
   "cell_type": "code",
   "execution_count": null,
   "metadata": {},
   "outputs": [],
   "source": [
    "sac."
   ]
  }
 ],
 "metadata": {
  "accelerator": "GPU",
  "colab": {
   "collapsed_sections": [],
   "name": "SAC.ipynb",
   "provenance": []
  },
  "kernelspec": {
   "display_name": "Python 3 (ipykernel)",
   "language": "python",
   "name": "python3"
  },
  "language_info": {
   "codemirror_mode": {
    "name": "ipython",
    "version": 3
   },
   "file_extension": ".py",
   "mimetype": "text/x-python",
   "name": "python",
   "nbconvert_exporter": "python",
   "pygments_lexer": "ipython3",
   "version": "3.8.10"
  }
 },
 "nbformat": 4,
 "nbformat_minor": 1
}
